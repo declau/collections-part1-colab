{
  "nbformat": 4,
  "nbformat_minor": 0,
  "metadata": {
    "colab": {
      "name": "Collections",
      "provenance": [],
      "collapsed_sections": [],
      "authorship_tag": "ABX9TyNAs5HqJWHzBCGmzbWf40pu",
      "include_colab_link": true
    },
    "kernelspec": {
      "name": "python3",
      "display_name": "Python 3"
    },
    "language_info": {
      "name": "python"
    }
  },
  "cells": [
    {
      "cell_type": "markdown",
      "metadata": {
        "id": "view-in-github",
        "colab_type": "text"
      },
      "source": [
        "<a href=\"https://colab.research.google.com/github/declau/collections-part1-colab/blob/master/Collections.ipynb\" target=\"_parent\"><img src=\"https://colab.research.google.com/assets/colab-badge.svg\" alt=\"Open In Colab\"/></a>"
      ]
    },
    {
      "cell_type": "code",
      "execution_count": null,
      "metadata": {
        "colab": {
          "base_uri": "https://localhost:8080/"
        },
        "id": "btA9gfuNM525",
        "outputId": "6cbc3bf3-686f-4815-933f-32f333774a86"
      },
      "outputs": [
        {
          "output_type": "stream",
          "name": "stdout",
          "text": [
            "30\n",
            "29\n",
            "31\n"
          ]
        }
      ],
      "source": [
        "idade = 30\n",
        "idade2 = 29\n",
        "idade3 = 31\n",
        "\n",
        "print(idade)\n",
        "print(idade2)\n",
        "print(idade3)\n",
        "\n"
      ]
    },
    {
      "cell_type": "code",
      "source": [
        "idades = [30, 29,31]\n",
        "\n",
        "for idade in idades:\n",
        "  print(idade)\n",
        "print(idades[1])\n",
        "\n",
        "idades.append(39)\n",
        "len(idades)\n",
        "print(idades[3])\n",
        "\n",
        "idades.remove(39)\n",
        "idades\n",
        "\n",
        "30 in idades\n",
        "\n"
      ],
      "metadata": {
        "colab": {
          "base_uri": "https://localhost:8080/"
        },
        "id": "IkvafWx6OHWp",
        "outputId": "12b3d18a-45c3-475c-f921-268104748fc5"
      },
      "execution_count": null,
      "outputs": [
        {
          "output_type": "stream",
          "name": "stdout",
          "text": [
            "30\n",
            "29\n",
            "31\n",
            "29\n",
            "39\n"
          ]
        },
        {
          "output_type": "execute_result",
          "data": {
            "text/plain": [
              "True"
            ]
          },
          "metadata": {},
          "execution_count": 6
        }
      ]
    },
    {
      "cell_type": "code",
      "source": [
        "idades = [30, 29,31]\n",
        "\n",
        "idades.append(30)\n",
        "\n",
        "idades.remove(30)\n",
        "idades\n",
        "idades.insert(0, 20) # Vai adicinar o elemento no inicio da lista\n",
        "idades\n"
      ],
      "metadata": {
        "colab": {
          "base_uri": "https://localhost:8080/"
        },
        "id": "s4s7DL--Q6jd",
        "outputId": "d4660bba-5613-4aab-f34c-bbed63095a76"
      },
      "execution_count": 3,
      "outputs": [
        {
          "output_type": "execute_result",
          "data": {
            "text/plain": [
              "[20, 29, 31, 30]"
            ]
          },
          "metadata": {},
          "execution_count": 3
        }
      ]
    },
    {
      "cell_type": "code",
      "source": [
        "idades = [20, 39, 18]\n",
        "idades.extend([19,20]) # Adiciona varios elementos em uma lista\n",
        "idades"
      ],
      "metadata": {
        "colab": {
          "base_uri": "https://localhost:8080/"
        },
        "id": "_M5gvwIVNZFI",
        "outputId": "989ceffd-217b-4948-aa42-e8dadf319c42"
      },
      "execution_count": 4,
      "outputs": [
        {
          "output_type": "execute_result",
          "data": {
            "text/plain": [
              "[20, 39, 18, 19, 20]"
            ]
          },
          "metadata": {},
          "execution_count": 4
        }
      ]
    }
  ]
}