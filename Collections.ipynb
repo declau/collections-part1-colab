{
  "nbformat": 4,
  "nbformat_minor": 0,
  "metadata": {
    "colab": {
      "name": "Collections",
      "provenance": [],
      "authorship_tag": "ABX9TyMnlMNq0w5C7ttXVozstCpl",
      "include_colab_link": true
    },
    "kernelspec": {
      "name": "python3",
      "display_name": "Python 3"
    },
    "language_info": {
      "name": "python"
    }
  },
  "cells": [
    {
      "cell_type": "markdown",
      "metadata": {
        "id": "view-in-github",
        "colab_type": "text"
      },
      "source": [
        "<a href=\"https://colab.research.google.com/github/declau/Command-line-application/blob/master/Collections.ipynb\" target=\"_parent\"><img src=\"https://colab.research.google.com/assets/colab-badge.svg\" alt=\"Open In Colab\"/></a>"
      ]
    },
    {
      "cell_type": "code",
      "execution_count": 1,
      "metadata": {
        "colab": {
          "base_uri": "https://localhost:8080/"
        },
        "id": "btA9gfuNM525",
        "outputId": "6cbc3bf3-686f-4815-933f-32f333774a86"
      },
      "outputs": [
        {
          "output_type": "stream",
          "name": "stdout",
          "text": [
            "30\n",
            "29\n",
            "31\n"
          ]
        }
      ],
      "source": [
        "idade = 30\n",
        "idade2 = 29\n",
        "idade3 = 31\n",
        "\n",
        "print(idade)\n",
        "print(idade2)\n",
        "print(idade3)\n",
        "\n"
      ]
    },
    {
      "cell_type": "code",
      "source": [
        "idades = [30, 29,31]\n",
        "\n",
        "for idade in idades:\n",
        "  print(idade)\n",
        "print(idades[1])\n",
        "\n",
        "idades.append(39)\n",
        "len(idades)\n",
        "print(idades[3])\n",
        "idades\n"
      ],
      "metadata": {
        "colab": {
          "base_uri": "https://localhost:8080/"
        },
        "id": "IkvafWx6OHWp",
        "outputId": "38352305-d282-4fe4-aeaa-52031914ca0c"
      },
      "execution_count": 9,
      "outputs": [
        {
          "output_type": "stream",
          "name": "stdout",
          "text": [
            "30\n",
            "29\n",
            "31\n",
            "29\n",
            "39\n"
          ]
        },
        {
          "output_type": "execute_result",
          "data": {
            "text/plain": [
              "[30, 29, 31, 39]"
            ]
          },
          "metadata": {},
          "execution_count": 9
        }
      ]
    }
  ]
}